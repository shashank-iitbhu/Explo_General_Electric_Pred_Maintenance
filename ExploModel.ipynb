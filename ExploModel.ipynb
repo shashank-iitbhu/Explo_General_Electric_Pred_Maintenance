{
  "cells": [
    {
      "cell_type": "code",
      "execution_count": null,
      "metadata": {
        "id": "fqbbO_sRquFU"
      },
      "outputs": [],
      "source": [
        "# from google.colab import files\n",
        "import os\n",
        "import numpy as np\n",
        "import pandas as pd\n",
        "import seaborn as sns\n",
        "import joblib\n",
        "import matplotlib\n",
        "import matplotlib.pyplot as plt\n",
        "\n",
        "import warnings\n",
        "warnings.filterwarnings(\"ignore\")"
      ]
    },
    {
      "cell_type": "code",
      "execution_count": null,
      "metadata": {},
      "outputs": [],
      "source": [
        "os.makedirs('./models/', exist_ok=True)"
      ]
    },
    {
      "cell_type": "code",
      "execution_count": null,
      "metadata": {
        "id": "gij3_0PjsfBW"
      },
      "outputs": [],
      "source": [
        "pd.set_option(\"display.max_columns\",None)\n",
        "pd.set_option(\"display.max_rows\",None)"
      ]
    },
    {
      "cell_type": "code",
      "execution_count": null,
      "metadata": {
        "colab": {
          "base_uri": "https://localhost:8080/"
        },
        "id": "NoUJElUqsqDJ",
        "outputId": "4ea8a253-83fd-40f9-ea1b-d308cdec05a2"
      },
      "outputs": [],
      "source": [
        "# uploaded = files.upload()\n",
        "df = pd.read_csv(\"predictive_maintenance.csv\")\n",
        "df = df.drop([\"UDI\", \"Product ID\"], axis=1)\n",
        "df = df.replace({'L': 1, 'M': 2, 'H': 3})\n",
        "\n",
        "print(df.sample(6))"
      ]
    },
    {
      "cell_type": "code",
      "execution_count": null,
      "metadata": {
        "colab": {
          "base_uri": "https://localhost:8080/",
          "height": 53
        },
        "id": "FSqkOE7Bwk0V",
        "outputId": "92f93ea5-6c38-4d55-faf8-1d523c8edf92"
      },
      "outputs": [],
      "source": [
        "display(df.shape)\n",
        "display(df.size)"
      ]
    },
    {
      "cell_type": "code",
      "execution_count": null,
      "metadata": {
        "colab": {
          "base_uri": "https://localhost:8080/"
        },
        "id": "IOXOgy0TwQqh",
        "outputId": "4df1b1b2-b179-4c3b-d99b-f0ce982e8144"
      },
      "outputs": [],
      "source": [
        "df.info()"
      ]
    },
    {
      "cell_type": "code",
      "execution_count": null,
      "metadata": {
        "colab": {
          "base_uri": "https://localhost:8080/",
          "height": 318
        },
        "id": "DIlB3jx-ztSc",
        "outputId": "0cf0ba5c-9c3d-48bf-f52f-55aefe99dbd1"
      },
      "outputs": [],
      "source": [
        "df.describe()"
      ]
    },
    {
      "cell_type": "code",
      "execution_count": null,
      "metadata": {
        "colab": {
          "base_uri": "https://localhost:8080/"
        },
        "id": "rGIr2ZUD1KEp",
        "outputId": "835a8c29-4161-4d3a-de90-eb41298a97a0"
      },
      "outputs": [],
      "source": [
        "df['Type'].value_counts()"
      ]
    },
    {
      "cell_type": "code",
      "execution_count": null,
      "metadata": {
        "colab": {
          "base_uri": "https://localhost:8080/"
        },
        "id": "8Yw64LgMzwv9",
        "outputId": "de2a079c-ee26-40f9-dcf5-aca4d78b932d"
      },
      "outputs": [],
      "source": [
        "df.apply(lambda x: x.nunique())"
      ]
    },
    {
      "cell_type": "code",
      "execution_count": null,
      "metadata": {
        "colab": {
          "base_uri": "https://localhost:8080/"
        },
        "id": "xdaUDs0d0WUr",
        "outputId": "6c366bf0-aa10-4866-a977-f9a048824828"
      },
      "outputs": [],
      "source": [
        "df['Failure Type'].value_counts()"
      ]
    },
    {
      "cell_type": "code",
      "execution_count": null,
      "metadata": {
        "id": "G7C7gsd-IMKw"
      },
      "outputs": [],
      "source": [
        "mapping = {\n",
        "    1: \"No Failure\",\n",
        "    2: \"Heat Dissipation Failure\",\n",
        "    3: \"Power Failure\",\n",
        "    4: \"Overstrain Failure\",\n",
        "    5: \"Tool Wear Failure\",\n",
        "    6: \"Random Failures\"\n",
        "}\n",
        "\n",
        "df[\"Failure Type\"] = df[\"Failure Type\"].replace(mapping)"
      ]
    },
    {
      "cell_type": "code",
      "execution_count": null,
      "metadata": {
        "colab": {
          "base_uri": "https://localhost:8080/",
          "height": 1000
        },
        "id": "SY3sRWDm2cWp",
        "outputId": "e4ed11c3-b137-471f-c978-2f2b287eea0a"
      },
      "outputs": [],
      "source": [
        "sns.pairplot(df, hue='Target')"
      ]
    },
    {
      "cell_type": "code",
      "execution_count": null,
      "metadata": {
        "colab": {
          "base_uri": "https://localhost:8080/",
          "height": 487
        },
        "id": "4ZTzd_pQ2u2j",
        "outputId": "8f1554c5-28fa-4711-b090-1cfb98c6a147"
      },
      "outputs": [],
      "source": [
        "colors = ['#E1728F', '#409E7D']\n",
        "plt.pie(df['Target'].value_counts(),  explode=[0.1, 0.2], labels=['Not failure', 'Failure'],\n",
        "        autopct='%1.1f%%', wedgeprops={'edgecolor': 'black'}, shadow=True, startangle=25,\n",
        "        colors=colors)\n",
        "plt.title('Failure vs not failure')\n",
        "plt.tight_layout()\n",
        "plt.show()"
      ]
    },
    {
      "cell_type": "code",
      "execution_count": null,
      "metadata": {
        "colab": {
          "base_uri": "https://localhost:8080/",
          "height": 836
        },
        "id": "LGI_M7ojSD65",
        "outputId": "5f87d339-a8e3-4306-d371-1e577d037426"
      },
      "outputs": [],
      "source": [
        "numeric_df = df.drop(columns=['Failure Type'])\n",
        "\n",
        "plt.figure(figsize=(8, 8))\n",
        "sns.heatmap(numeric_df.corr(), annot=True)\n",
        "plt.show()"
      ]
    },
    {
      "cell_type": "code",
      "execution_count": null,
      "metadata": {
        "id": "_Gjj-ry653RW"
      },
      "outputs": [],
      "source": [
        "X = df.drop(columns=[\"Target\", \"Failure Type\"], axis=1)\n",
        "y = df[[\"Failure Type\"]]"
      ]
    },
    {
      "cell_type": "code",
      "execution_count": null,
      "metadata": {
        "id": "-EubeVfm56vV"
      },
      "outputs": [],
      "source": [
        "from sklearn.model_selection import train_test_split\n",
        "X_train,X_test,y_train,y_test = train_test_split(X,y,test_size=0.2,random_state=69)"
      ]
    },
    {
      "cell_type": "code",
      "execution_count": null,
      "metadata": {
        "colab": {
          "base_uri": "https://localhost:8080/"
        },
        "id": "UtK0bmG259u4",
        "outputId": "e44a0db2-21fe-460d-bc25-cac781a4be09"
      },
      "outputs": [],
      "source": [
        "from sklearn.metrics import accuracy_score\n",
        "from sklearn.linear_model import LogisticRegression\n",
        "\n",
        "logistic_regression_model = LogisticRegression()\n",
        "logistic_regression_model.fit(X_train, y_train)\n",
        "y_pred_lr = logistic_regression_model.predict(X_test)\n",
        "training_accuracy = round(logistic_regression_model.score(X_train, y_train) * 100, 2)\n",
        "test_accuracy = round(accuracy_score(y_pred_lr, y_test) * 100, 2)\n",
        "\n",
        "import joblib\n",
        "with open('./model/LR.joblib', 'wb') as f:\n",
        "    joblib.dump(logistic_regression_model,f)\n",
        "\n",
        "print(\"Training Accuracy: {}%\".format(training_accuracy))\n",
        "print(\"Test Accuracy: {}%\".format(test_accuracy))"
      ]
    },
    {
      "cell_type": "code",
      "execution_count": null,
      "metadata": {
        "colab": {
          "base_uri": "https://localhost:8080/",
          "height": 487
        },
        "id": "Ejn8cphkmS88",
        "outputId": "49ead7ef-82b8-4cd0-877d-b8d282bd442d"
      },
      "outputs": [],
      "source": [
        "importance = logistic_regression_model.coef_[0]\n",
        "imp_scores = pd.Series(importance, index=X_train.columns).sort_values(ascending=False)\n",
        "\n",
        "imp_scores\n",
        "\n",
        "f, ax = plt.subplots(figsize=(8,5))\n",
        "ax = sns.barplot(x=imp_scores, y=imp_scores.index)\n",
        "ax.set_title(\"Visualize feature scores of the features\")\n",
        "ax.set_yticklabels(imp_scores.index)\n",
        "ax.set_xlabel(\"Feature importance score\")\n",
        "ax.set_ylabel(\"Features\")\n",
        "plt.show()"
      ]
    },
    {
      "cell_type": "code",
      "execution_count": null,
      "metadata": {
        "colab": {
          "base_uri": "https://localhost:8080/"
        },
        "id": "0kOJW8vt9NEg",
        "outputId": "0564e1c6-9e2b-45b6-b77f-44f87a2b3f8e"
      },
      "outputs": [],
      "source": [
        "logistic_regression_model = LogisticRegression()\n",
        "logistic_regression_model.fit(X_train, y_train)\n",
        "\n",
        "def predict_logistic_regression(X):\n",
        "    X = np.array(X).reshape(1, -1)\n",
        "    return logistic_regression_model.predict(X)\n",
        "\n",
        "def test_logistic_regression():\n",
        "    type_of_material = float(input(\"Enter the type of material used: \"))\n",
        "    air_temperature = float(input(\"E30nter air temperature in Kelvin: \"))\n",
        "    process_temperature = float(input(\"Enter process temperature in Kelvin: \"))\n",
        "    rotational_speed = float(input(\"Enter rotational speed: \"))\n",
        "    torque = float(input(\"Enter torque: \"))\n",
        "    tool_wear = float(input(\"Enter tool wear: \"))\n",
        "\n",
        "    result = predict_logistic_regression([type_of_material, air_temperature, process_temperature, rotational_speed, torque, tool_wear])\n",
        "\n",
        "    print(\"Predicted machine failure label: \", result)\n",
        "\n",
        "test_logistic_regression()"
      ]
    },
    {
      "cell_type": "code",
      "execution_count": null,
      "metadata": {
        "colab": {
          "base_uri": "https://localhost:8080/"
        },
        "id": "eGqj0ZQ48fAo",
        "outputId": "9b962b05-a43b-44ed-ab03-e1c7a0e0f012"
      },
      "outputs": [],
      "source": [
        "from sklearn.ensemble import RandomForestClassifier\n",
        "\n",
        "random_forest_model = RandomForestClassifier()\n",
        "random_forest_model.fit(X_train, y_train)\n",
        "y_pred_rf = random_forest_model.predict(X_test)\n",
        "training_accuracy_rf = round(random_forest_model.score(X_train, y_train) * 100, 2)\n",
        "test_accuracy_rf = round(accuracy_score(y_pred_rf, y_test) * 100, 2)\n",
        "\n",
        "import joblib\n",
        "with open('./model/RF.joblib', 'wb') as f:\n",
        "    joblib.dump(random_forest_model,f)\n",
        "\n",
        "print(\"Training Accuracy (Random Forest): {}%\".format(training_accuracy_rf))\n",
        "print(\"Test Accuracy (Random Forest): {}%\".format(test_accuracy_rf))"
      ]
    },
    {
      "cell_type": "code",
      "execution_count": null,
      "metadata": {
        "colab": {
          "base_uri": "https://localhost:8080/",
          "height": 329
        },
        "id": "cBBXpI2fCDTq",
        "outputId": "8dd06798-8fcd-4052-80fc-aae78d66b8a0"
      },
      "outputs": [],
      "source": [
        "random_forest_model = RandomForestClassifier()\n",
        "random_forest_model.fit(X_train, y_train)\n",
        "\n",
        "def predict_rando1272m_forest(X):\n",
        "    X = np.array(X).reshape(1, -1)\n",
        "    return random_forest_model.predict(X)\n",
        "\n",
        "def test_random_forest():\n",
        "    type_of_material = float(input(\"Enter the type of material used: \"))\n",
        "    air_temperature = float(input(\"Enter air temperature in Kelvin: \"))\n",
        "    process_temperature = float(input(\"Enter process temperature in Kelvin: \"))\n",
        "    rotational_speed = float(input(\"Enter rotational speed: \"))\n",
        "    torque = float(input(\"Enter torque: \"))\n",
        "    tool_wear = float(input(\"Enter tool wear: \"))\n",
        "\n",
        "    result = predict_random_forest([type_of_material, air_temperature, process_temperature, rotational_speed, torque, tool_wear])\n",
        "\n",
        "    print(\"Predicted machine failure label: \", result)\n",
        "\n",
        "test_random_forest()"
      ]
    },
    {
      "cell_type": "code",
      "execution_count": null,
      "metadata": {
        "id": "d1mgTm_MfZX5"
      },
      "outputs": [],
      "source": [
        "feature_scores = pd.Series(random_forest_model.feature_importances_, index=X_train.columns).sort_values(ascending=False)\n",
        "\n",
        "feature_scores"
      ]
    },
    {
      "cell_type": "code",
      "execution_count": null,
      "metadata": {
        "id": "WyIpWiWQiRb5"
      },
      "outputs": [],
      "source": [
        "f, ax = plt.subplots(figsize=(16, 10))\n",
        "ax = sns.barplot(x=feature_scores, y=feature_scores.index)\n",
        "ax.set_title(\"Visualize feature scores of the features\")\n",
        "ax.set_yticklabels(feature_scores.index)\n",
        "ax.set_xlabel(\"Feature importance score\")\n",
        "ax.set_ylabel(\"Features\")\n",
        "plt.show()"
      ]
    }
  ],
  "metadata": {
    "colab": {
      "provenance": []
    },
    "kernelspec": {
      "display_name": "Python 3",
      "name": "python3"
    },
    "language_info": {
      "name": "python",
      "version": "3.11.9"
    }
  },
  "nbformat": 4,
  "nbformat_minor": 0
}
